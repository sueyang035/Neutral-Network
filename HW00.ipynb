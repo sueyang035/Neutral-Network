{
  "cells": [
    {
      "cell_type": "markdown",
      "metadata": {
        "id": "0LvBxvEhO18P"
      },
      "source": [
        "# Homework 0: Python Basics with NumPy (Optional)\n",
        "\n",
        "In this assignment, you will review the basics of Python programming and learn how to work with NumPy for numerical computations. We will also implement the XOR logical operator using multilayer perceptrons. Complete the exercises below by following the provided instructions.\n"
      ]
    },
    {
      "cell_type": "markdown",
      "metadata": {
        "id": "nUUSLylJO18T"
      },
      "source": [
        "### Basic Python Operations\n",
        "\n",
        "**Exercise 1**: Create two variables `x` and `y` and assign them the values `5` and `10`, respectively."
      ]
    },
    {
      "cell_type": "code",
      "execution_count": 43,
      "metadata": {
        "id": "LshYBvMCO18T"
      },
      "outputs": [],
      "source": [
        "### Code star here ###\n",
        "\n",
        "\n",
        "### End code here ###"
      ]
    },
    {
      "cell_type": "markdown",
      "source": [
        "**Exercise 2**: Compute their sum and product. Print the result.\n"
      ],
      "metadata": {
        "id": "EqN7D4IbRe5B"
      }
    },
    {
      "cell_type": "code",
      "source": [
        "### Code star here ###\n",
        "\n",
        "\n",
        "### End code here ###"
      ],
      "metadata": {
        "colab": {
          "base_uri": "https://localhost:8080/"
        },
        "id": "F3xgNuqEgQLg",
        "outputId": "83102a6d-e8af-4179-dbf2-03420ff83ae6"
      },
      "execution_count": 44,
      "outputs": [
        {
          "output_type": "stream",
          "name": "stdout",
          "text": [
            "15\n",
            "50\n"
          ]
        }
      ]
    },
    {
      "cell_type": "markdown",
      "source": [
        "**Exercise 3**: Use an `if-else` statement to print `1` if `x` is greater than or equival to `y`, and print `0` otherwise."
      ],
      "metadata": {
        "id": "fRTVv5LngUTx"
      }
    },
    {
      "cell_type": "code",
      "source": [
        "### Code star here ###\n",
        "\n",
        "\n",
        "\n",
        "\n",
        "### End code here ###"
      ],
      "metadata": {
        "colab": {
          "base_uri": "https://localhost:8080/"
        },
        "id": "ydmHy9TAgVQ5",
        "outputId": "0b099cb3-22ad-40da-e638-f3313b0e52c7"
      },
      "execution_count": 45,
      "outputs": [
        {
          "output_type": "stream",
          "name": "stdout",
          "text": [
            "0\n"
          ]
        }
      ]
    },
    {
      "cell_type": "markdown",
      "source": [
        "### Functions\n",
        "\n",
        "**Exercise 4**:\n",
        "1. Write a function called `step` that returns 1 if the given number \\( x \\) is greater than or equal to 0, and 0 otherwise.\n",
        "2. Call the function to compute the values for 3 and -1.\n",
        "3. Print the results.\n"
      ],
      "metadata": {
        "id": "KonyXCGPP0X-"
      }
    },
    {
      "cell_type": "code",
      "source": [
        "def step(x):\n",
        "    ### Code star here ###\n",
        "\n",
        "\n",
        "\n",
        "\n",
        "    ### End code here ###\n",
        "\n",
        "print(step(3))\n",
        "print(step(-1))"
      ],
      "metadata": {
        "colab": {
          "base_uri": "https://localhost:8080/"
        },
        "id": "BwvI7xKFRDC5",
        "outputId": "2f116ccd-1a80-4a83-d62c-750feb0e0a3a"
      },
      "execution_count": 46,
      "outputs": [
        {
          "output_type": "stream",
          "name": "stdout",
          "text": [
            "1\n",
            "0\n"
          ]
        }
      ]
    },
    {
      "cell_type": "markdown",
      "source": [
        "### Lists and Loops\n",
        "\n",
        "**Exercise 5**:\n",
        "1. Define a list or 1D-array `arr` with the values `[-1, -2, 3, 4, 5]`.\n",
        "2. Use a `for` loop to compute and print the result of the `step` function for each entry in the list.\n"
      ],
      "metadata": {
        "id": "b04Z2h0dT1Y1"
      }
    },
    {
      "cell_type": "code",
      "source": [
        "arr = [-1, -2, 3, 4, 5]\n",
        "### Code star here ###\n",
        "\n",
        "\n",
        "### End code here ###"
      ],
      "metadata": {
        "colab": {
          "base_uri": "https://localhost:8080/"
        },
        "id": "XWOEMBqdUUdZ",
        "outputId": "92b14e74-ace4-43ae-c53c-6406d4ea206b"
      },
      "execution_count": 48,
      "outputs": [
        {
          "output_type": "stream",
          "name": "stdout",
          "text": [
            "0\n",
            "0\n",
            "1\n",
            "1\n",
            "1\n"
          ]
        }
      ]
    },
    {
      "cell_type": "markdown",
      "source": [
        "### NumPy Arrays\n",
        "\n",
        "**Exercise 6**:\n",
        "1. Import the `numpy` library as `np`.\n",
        "2. Create a NumPy array `arr` containing integers from -5 to 5 (inclusive).\n",
        "3. Print the created array.\n"
      ],
      "metadata": {
        "id": "ZyPS8TAiZLhO"
      }
    },
    {
      "cell_type": "code",
      "source": [
        "import numpy as np\n",
        "### Code star here ###\n",
        "\n",
        "### End code here ###\n",
        "print(arr)"
      ],
      "metadata": {
        "colab": {
          "base_uri": "https://localhost:8080/"
        },
        "id": "eAl7EqAGZck8",
        "outputId": "d0d89ae6-d9db-4701-e9b3-8a621c315465"
      },
      "execution_count": 55,
      "outputs": [
        {
          "output_type": "stream",
          "name": "stdout",
          "text": [
            "[-5 -4 -3 -2 -1  0  1  2  3  4  5]\n"
          ]
        }
      ]
    },
    {
      "cell_type": "markdown",
      "source": [
        "You will encounter an **error** in the following code"
      ],
      "metadata": {
        "id": "k3FMyBdAUrGK"
      }
    },
    {
      "cell_type": "code",
      "source": [
        "step(arr)"
      ],
      "metadata": {
        "colab": {
          "base_uri": "https://localhost:8080/",
          "height": 258
        },
        "id": "G-Lx5d7mVA9K",
        "outputId": "82f6bdaf-5b52-4a7a-a2d1-96a9c60e6b3a"
      },
      "execution_count": 50,
      "outputs": [
        {
          "output_type": "error",
          "ename": "ValueError",
          "evalue": "The truth value of an array with more than one element is ambiguous. Use a.any() or a.all()",
          "traceback": [
            "\u001b[0;31m---------------------------------------------------------------------------\u001b[0m",
            "\u001b[0;31mValueError\u001b[0m                                Traceback (most recent call last)",
            "\u001b[0;32m<ipython-input-50-87446ac4172a>\u001b[0m in \u001b[0;36m<cell line: 1>\u001b[0;34m()\u001b[0m\n\u001b[0;32m----> 1\u001b[0;31m \u001b[0mstep\u001b[0m\u001b[0;34m(\u001b[0m\u001b[0marr\u001b[0m\u001b[0;34m)\u001b[0m\u001b[0;34m\u001b[0m\u001b[0;34m\u001b[0m\u001b[0m\n\u001b[0m",
            "\u001b[0;32m<ipython-input-46-47485f490005>\u001b[0m in \u001b[0;36mstep\u001b[0;34m(x)\u001b[0m\n\u001b[1;32m      1\u001b[0m \u001b[0;32mdef\u001b[0m \u001b[0mstep\u001b[0m\u001b[0;34m(\u001b[0m\u001b[0mx\u001b[0m\u001b[0;34m)\u001b[0m\u001b[0;34m:\u001b[0m\u001b[0;34m\u001b[0m\u001b[0;34m\u001b[0m\u001b[0m\n\u001b[1;32m      2\u001b[0m     \u001b[0;31m### Code star here ###\u001b[0m\u001b[0;34m\u001b[0m\u001b[0;34m\u001b[0m\u001b[0m\n\u001b[0;32m----> 3\u001b[0;31m     \u001b[0;32mif\u001b[0m \u001b[0mx\u001b[0m \u001b[0;34m>=\u001b[0m \u001b[0;36m0\u001b[0m\u001b[0;34m:\u001b[0m\u001b[0;34m\u001b[0m\u001b[0;34m\u001b[0m\u001b[0m\n\u001b[0m\u001b[1;32m      4\u001b[0m         \u001b[0;32mreturn\u001b[0m \u001b[0;36m1\u001b[0m\u001b[0;34m\u001b[0m\u001b[0;34m\u001b[0m\u001b[0m\n\u001b[1;32m      5\u001b[0m     \u001b[0;32melse\u001b[0m\u001b[0;34m:\u001b[0m\u001b[0;34m\u001b[0m\u001b[0;34m\u001b[0m\u001b[0m\n",
            "\u001b[0;31mValueError\u001b[0m: The truth value of an array with more than one element is ambiguous. Use a.any() or a.all()"
          ]
        }
      ]
    },
    {
      "cell_type": "markdown",
      "source": [
        "It is because the `step` function expects a scalar input, but we provided a list. To handle this, we can use `np.vectorize`, which returns a vectorized version of the `step` function called `vstep`. This will apply the original `step` function to each element in the given array.\n"
      ],
      "metadata": {
        "id": "gODdhI8-VExG"
      }
    },
    {
      "cell_type": "code",
      "source": [
        "vstep = np.vectorize(step)\n",
        "vstep(arr)"
      ],
      "metadata": {
        "colab": {
          "base_uri": "https://localhost:8080/"
        },
        "id": "i8I-4RpaUqfg",
        "outputId": "6101981d-27a5-4b36-b64d-a50c5bea15fc"
      },
      "execution_count": 56,
      "outputs": [
        {
          "output_type": "execute_result",
          "data": {
            "text/plain": [
              "array([0, 0, 0, 0, 0, 1, 1, 1, 1, 1, 1])"
            ]
          },
          "metadata": {},
          "execution_count": 56
        }
      ]
    },
    {
      "cell_type": "markdown",
      "source": [
        "### Class and Perceptron\n",
        "\n",
        "Recall the definition of a single perceptron:\n",
        "$$\n",
        "\\hat{y}=\\phi(w^{\\top}x + b)\n",
        "$$\n",
        "\n",
        "**Exercise 7**:\n",
        "1. Define a class `Perceptron` that takes input weights `w` and bias `b`.\n",
        "2. In its `__init__` method, store the inputs `w` and `b` as `self.w` and `self.b`, respectively.\n",
        "3. Create another method `__call__` that applies the function `vstep` to the sum of the dot product of `x` and `self.w` plus `self.b`.\n"
      ],
      "metadata": {
        "id": "L2aIsGhhbKWk"
      }
    },
    {
      "cell_type": "code",
      "source": [
        "class perceptron:\n",
        "    def __init__(self, w, b):\n",
        "        self.w = np.array(w)\n",
        "        self.b = b\n",
        "\n",
        "    def __call__(self, x):\n",
        "        ### Code star here ###\n",
        "\n",
        "        ### End code here ###"
      ],
      "metadata": {
        "id": "RR7vYaelcAIq"
      },
      "execution_count": 52,
      "outputs": []
    },
    {
      "cell_type": "markdown",
      "source": [
        "**Exercise 8**:\n",
        "Define the AND, OR, and NAND gates using the `Perceptron` class:\n",
        "1. `and_perceptron`: `w=[1, 1]` and `b=-1.5`.\n",
        "2. `or_perceptron`: `w=[1, 1]` and `b=-0.5`.\n",
        "3. `nand_perceptron`: `w=[-1, -1]` and `b=1.5`.\n"
      ],
      "metadata": {
        "id": "xvxynUz4cTrE"
      }
    },
    {
      "cell_type": "code",
      "source": [
        "and_perceptron = perceptron([1, 1], -1.5)\n",
        "or_perceptron = perceptron([1, 1], -0.5)\n",
        "### Code star here ###\n",
        "\n",
        "### End code here ###"
      ],
      "metadata": {
        "id": "zsO-HQfGcTCv"
      },
      "execution_count": 57,
      "outputs": []
    },
    {
      "cell_type": "markdown",
      "source": [
        "**Exercise 9**: Test the performance of the perceptrons\n",
        "\n",
        "1. Define the inputs as `inputs = np.array([[0, 0], [0, 1], [1, 0], [1, 1]])`.\n",
        "2. For each input `x` in `inputs`, evaluate it using `and_perceptron`, `or_perceptron`, and `nand_perceptron`, and print the results.\n"
      ],
      "metadata": {
        "id": "HjsPybX7dNr-"
      }
    },
    {
      "cell_type": "code",
      "source": [
        "inputs = np.array([[0, 0], [0, 1], [1, 0], [1, 1]])\n",
        "\n",
        "for x in inputs:\n",
        "    print(f\"Input: {x}, AND Output: {and_perceptron(x)}\")\n",
        "\n",
        "for x in inputs:\n",
        "    print(f\"Input: {x}, OR Output: {or_perceptron(x)}\")\n",
        "\n",
        "for x in inputs:\n",
        "    ### Code star here ###\n",
        "\n",
        "    ### End code here ###"
      ],
      "metadata": {
        "colab": {
          "base_uri": "https://localhost:8080/"
        },
        "id": "b01eToJydIc_",
        "outputId": "7e4ea869-3f88-4788-edc5-31a6c49ef327"
      },
      "execution_count": 58,
      "outputs": [
        {
          "output_type": "stream",
          "name": "stdout",
          "text": [
            "Input: [0 0], AND Output: 0\n",
            "Input: [0 1], AND Output: 0\n",
            "Input: [1 0], AND Output: 0\n",
            "Input: [1 1], AND Output: 1\n",
            "Input: [0 0], OR Output: 0\n",
            "Input: [0 1], OR Output: 1\n",
            "Input: [1 0], OR Output: 1\n",
            "Input: [1 1], OR Output: 1\n",
            "Input: [0 0], NAND Output: 1\n",
            "Input: [0 1], NAND Output: 1\n",
            "Input: [1 0], NAND Output: 1\n",
            "Input: [1 1], NAND Output: 0\n"
          ]
        }
      ]
    },
    {
      "cell_type": "markdown",
      "source": [
        "### Multilayer Perceptrons\n",
        "\n",
        "As discussed in the first week's lecture, we can implement `xor` using a two-layer MLP. This is possible because `xor` can be expressed in terms of `or`, `and`, and `nand` as follows:\n",
        "$$\n",
        "x_1 \\oplus x_2 = (x_1 \\lor x_2) \\land (x_1 \\uparrow x_2).\n",
        "$$\n",
        "\n",
        "**Exercise 10**:\n",
        "1. Define a function `xor_mlp` that takes an input `x`.\n",
        "2. In the first layer, compute the outputs `out1` and `out2` using `or_perceptron` and `nand_perceptron`, respectively.\n",
        "3. In the second layer, compute the final output `final_output` by passing the outputs `[out1, out2]` into the `and_perceptron`.\n",
        "4. Return the `final_output`.\n"
      ],
      "metadata": {
        "id": "xa-gj_bod92e"
      }
    },
    {
      "cell_type": "code",
      "source": [
        "def xor_mlp(x):\n",
        "    # First layer: we compute the outputs from or_perceptron and nand_perceptron\n",
        "    out1 = or_perceptron(x)\n",
        "    ### Code star here ###\n",
        "\n",
        "    ### End code here ###\n",
        "\n",
        "    # Second layer: we compute the final output from and_perceptron\n",
        "    final_output = and_perceptron([out1, out2])\n",
        "    return final_output\n",
        "\n",
        "for x in inputs:\n",
        "    print(f\"Input: {x}, XOR Output: {xor_mlp(x)}\")"
      ],
      "metadata": {
        "colab": {
          "base_uri": "https://localhost:8080/"
        },
        "id": "kSAB2oued9TD",
        "outputId": "94dbdc3d-c94a-48c7-aa02-bfc341a4507d"
      },
      "execution_count": 54,
      "outputs": [
        {
          "output_type": "stream",
          "name": "stdout",
          "text": [
            "Input: [0 0], XOR Output: 0\n",
            "Input: [0 1], XOR Output: 1\n",
            "Input: [1 0], XOR Output: 1\n",
            "Input: [1 1], XOR Output: 0\n"
          ]
        }
      ]
    },
    {
      "cell_type": "markdown",
      "metadata": {
        "id": "SPe2OicVO18Y"
      },
      "source": [
        "### Congratulations!!!\n",
        "\n",
        "You have completed the basic exercises on Python programming and NumPy. Additionally, you have successfully implemented perceptrons and used them to solve the XOR problem. This has helped you build a solid understanding of multilayer perceptrons, which will serve as a strong foundation for more advanced neural network topics in the future.\n"
      ]
    },
    {
      "cell_type": "code",
      "source": [],
      "metadata": {
        "id": "RBYWGByjmsjD"
      },
      "execution_count": null,
      "outputs": []
    }
  ],
  "metadata": {
    "kernelspec": {
      "display_name": "Python 3",
      "language": "python",
      "name": "python3"
    },
    "language_info": {
      "name": "python",
      "version": "3.8.5"
    },
    "colab": {
      "provenance": []
    }
  },
  "nbformat": 4,
  "nbformat_minor": 0
}